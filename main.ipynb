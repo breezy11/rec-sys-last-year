{
 "cells": [
  {
   "cell_type": "markdown",
   "id": "a89feff2",
   "metadata": {},
   "source": [
    "# Recommender system - final project\n",
    "## 1. Data cleaning"
   ]
  },
  {
   "cell_type": "code",
   "execution_count": 366,
   "id": "4a1b9d62",
   "metadata": {},
   "outputs": [],
   "source": [
    "# imports\n",
    "import pandas as pd\n",
    "import numpy as np\n",
    "from scipy.sparse import csr_matrix\n",
    "from sklearn.neighbors import NearestNeighbors\n",
    "from pandas.api.types import CategoricalDtype\n",
    "import random\n",
    "from scipy.sparse import coo_matrix\n",
    "import scipy.sparse as sparse\n",
    "from scipy.sparse.linalg import spsolve\n",
    "from sklearn.preprocessing import MinMaxScaler\n",
    "import sys\n",
    "import implicit"
   ]
  },
  {
   "cell_type": "code",
   "execution_count": 367,
   "id": "243386aa",
   "metadata": {},
   "outputs": [
    {
     "data": {
      "text/html": [
       "<div>\n",
       "<style scoped>\n",
       "    .dataframe tbody tr th:only-of-type {\n",
       "        vertical-align: middle;\n",
       "    }\n",
       "\n",
       "    .dataframe tbody tr th {\n",
       "        vertical-align: top;\n",
       "    }\n",
       "\n",
       "    .dataframe thead th {\n",
       "        text-align: right;\n",
       "    }\n",
       "</style>\n",
       "<table border=\"1\" class=\"dataframe\">\n",
       "  <thead>\n",
       "    <tr style=\"text-align: right;\">\n",
       "      <th></th>\n",
       "      <th>session_id</th>\n",
       "      <th>item_id</th>\n",
       "      <th>date</th>\n",
       "    </tr>\n",
       "  </thead>\n",
       "  <tbody>\n",
       "    <tr>\n",
       "      <th>0</th>\n",
       "      <td>3</td>\n",
       "      <td>15085</td>\n",
       "      <td>2020-12-18 21:26:47.986</td>\n",
       "    </tr>\n",
       "    <tr>\n",
       "      <th>1</th>\n",
       "      <td>13</td>\n",
       "      <td>18626</td>\n",
       "      <td>2020-03-13 19:36:15.507</td>\n",
       "    </tr>\n",
       "    <tr>\n",
       "      <th>2</th>\n",
       "      <td>18</td>\n",
       "      <td>24911</td>\n",
       "      <td>2020-08-26 19:20:32.049</td>\n",
       "    </tr>\n",
       "    <tr>\n",
       "      <th>3</th>\n",
       "      <td>19</td>\n",
       "      <td>12534</td>\n",
       "      <td>2020-11-02 17:16:45.92</td>\n",
       "    </tr>\n",
       "    <tr>\n",
       "      <th>4</th>\n",
       "      <td>24</td>\n",
       "      <td>13226</td>\n",
       "      <td>2020-02-26 18:27:44.114</td>\n",
       "    </tr>\n",
       "  </tbody>\n",
       "</table>\n",
       "</div>"
      ],
      "text/plain": [
       "   session_id  item_id                     date\n",
       "0           3    15085  2020-12-18 21:26:47.986\n",
       "1          13    18626  2020-03-13 19:36:15.507\n",
       "2          18    24911  2020-08-26 19:20:32.049\n",
       "3          19    12534   2020-11-02 17:16:45.92\n",
       "4          24    13226  2020-02-26 18:27:44.114"
      ]
     },
     "execution_count": 367,
     "metadata": {},
     "output_type": "execute_result"
    }
   ],
   "source": [
    "train_purchases = pd.read_csv(\"data/train_purchases.csv\")\n",
    "train_purchases.head()"
   ]
  },
  {
   "cell_type": "code",
   "execution_count": 368,
   "id": "aeea2f3c",
   "metadata": {},
   "outputs": [
    {
     "data": {
      "text/html": [
       "<div>\n",
       "<style scoped>\n",
       "    .dataframe tbody tr th:only-of-type {\n",
       "        vertical-align: middle;\n",
       "    }\n",
       "\n",
       "    .dataframe tbody tr th {\n",
       "        vertical-align: top;\n",
       "    }\n",
       "\n",
       "    .dataframe thead th {\n",
       "        text-align: right;\n",
       "    }\n",
       "</style>\n",
       "<table border=\"1\" class=\"dataframe\">\n",
       "  <thead>\n",
       "    <tr style=\"text-align: right;\">\n",
       "      <th></th>\n",
       "      <th>session_id</th>\n",
       "      <th>item_id</th>\n",
       "      <th>date</th>\n",
       "    </tr>\n",
       "  </thead>\n",
       "  <tbody>\n",
       "    <tr>\n",
       "      <th>0</th>\n",
       "      <td>3</td>\n",
       "      <td>9655</td>\n",
       "      <td>2020-12-18 21:25:00.373</td>\n",
       "    </tr>\n",
       "    <tr>\n",
       "      <th>1</th>\n",
       "      <td>3</td>\n",
       "      <td>9655</td>\n",
       "      <td>2020-12-18 21:19:48.093</td>\n",
       "    </tr>\n",
       "    <tr>\n",
       "      <th>2</th>\n",
       "      <td>13</td>\n",
       "      <td>15654</td>\n",
       "      <td>2020-03-13 19:35:27.136</td>\n",
       "    </tr>\n",
       "    <tr>\n",
       "      <th>3</th>\n",
       "      <td>18</td>\n",
       "      <td>18316</td>\n",
       "      <td>2020-08-26 19:18:30.833</td>\n",
       "    </tr>\n",
       "    <tr>\n",
       "      <th>4</th>\n",
       "      <td>18</td>\n",
       "      <td>2507</td>\n",
       "      <td>2020-08-26 19:16:31.211</td>\n",
       "    </tr>\n",
       "  </tbody>\n",
       "</table>\n",
       "</div>"
      ],
      "text/plain": [
       "   session_id  item_id                     date\n",
       "0           3     9655  2020-12-18 21:25:00.373\n",
       "1           3     9655  2020-12-18 21:19:48.093\n",
       "2          13    15654  2020-03-13 19:35:27.136\n",
       "3          18    18316  2020-08-26 19:18:30.833\n",
       "4          18     2507  2020-08-26 19:16:31.211"
      ]
     },
     "execution_count": 368,
     "metadata": {},
     "output_type": "execute_result"
    }
   ],
   "source": [
    "train_sessions = pd.read_csv(\"data/train_sessions.csv\")\n",
    "train_sessions.head()"
   ]
  },
  {
   "cell_type": "code",
   "execution_count": 369,
   "id": "de72faba",
   "metadata": {},
   "outputs": [],
   "source": [
    "train_purchases['action'] = np.repeat(20.0, train_purchases.shape[0])\n",
    "train_sessions['action'] = np.ones(train_sessions.shape[0])"
   ]
  },
  {
   "cell_type": "code",
   "execution_count": 370,
   "id": "f9a96080",
   "metadata": {},
   "outputs": [],
   "source": [
    "users_train = sorted(train_purchases['session_id'].unique())[:950000]"
   ]
  },
  {
   "cell_type": "code",
   "execution_count": 371,
   "id": "27008644",
   "metadata": {},
   "outputs": [],
   "source": [
    "filtered_train_purchases = train_purchases[train_purchases['session_id'].isin(users_train)]"
   ]
  },
  {
   "cell_type": "code",
   "execution_count": 372,
   "id": "76f055eb",
   "metadata": {},
   "outputs": [],
   "source": [
    "df = filtered_train_purchases.append(train_sessions)"
   ]
  },
  {
   "cell_type": "code",
   "execution_count": 373,
   "id": "5d073c06",
   "metadata": {},
   "outputs": [
    {
     "data": {
      "text/html": [
       "<div>\n",
       "<style scoped>\n",
       "    .dataframe tbody tr th:only-of-type {\n",
       "        vertical-align: middle;\n",
       "    }\n",
       "\n",
       "    .dataframe tbody tr th {\n",
       "        vertical-align: top;\n",
       "    }\n",
       "\n",
       "    .dataframe thead th {\n",
       "        text-align: right;\n",
       "    }\n",
       "</style>\n",
       "<table border=\"1\" class=\"dataframe\">\n",
       "  <thead>\n",
       "    <tr style=\"text-align: right;\">\n",
       "      <th></th>\n",
       "      <th>session_id</th>\n",
       "      <th>item_id</th>\n",
       "      <th>action</th>\n",
       "    </tr>\n",
       "  </thead>\n",
       "  <tbody>\n",
       "    <tr>\n",
       "      <th>0</th>\n",
       "      <td>3</td>\n",
       "      <td>15085</td>\n",
       "      <td>20.0</td>\n",
       "    </tr>\n",
       "    <tr>\n",
       "      <th>1</th>\n",
       "      <td>3</td>\n",
       "      <td>9655</td>\n",
       "      <td>1.0</td>\n",
       "    </tr>\n",
       "    <tr>\n",
       "      <th>0</th>\n",
       "      <td>3</td>\n",
       "      <td>9655</td>\n",
       "      <td>1.0</td>\n",
       "    </tr>\n",
       "    <tr>\n",
       "      <th>1</th>\n",
       "      <td>13</td>\n",
       "      <td>18626</td>\n",
       "      <td>20.0</td>\n",
       "    </tr>\n",
       "    <tr>\n",
       "      <th>2</th>\n",
       "      <td>13</td>\n",
       "      <td>15654</td>\n",
       "      <td>1.0</td>\n",
       "    </tr>\n",
       "  </tbody>\n",
       "</table>\n",
       "</div>"
      ],
      "text/plain": [
       "   session_id  item_id  action\n",
       "0           3    15085    20.0\n",
       "1           3     9655     1.0\n",
       "0           3     9655     1.0\n",
       "1          13    18626    20.0\n",
       "2          13    15654     1.0"
      ]
     },
     "execution_count": 373,
     "metadata": {},
     "output_type": "execute_result"
    }
   ],
   "source": [
    "df.sort_values('session_id', inplace=True)\n",
    "df.drop('date', axis=1, inplace=True)\n",
    "df.head()"
   ]
  },
  {
   "cell_type": "code",
   "execution_count": 374,
   "id": "d6490f7f",
   "metadata": {},
   "outputs": [],
   "source": [
    "df = df.groupby(['session_id', 'item_id']).sum()"
   ]
  },
  {
   "cell_type": "code",
   "execution_count": 375,
   "id": "856d5d75",
   "metadata": {},
   "outputs": [],
   "source": [
    "df.reset_index(inplace=True)"
   ]
  },
  {
   "cell_type": "code",
   "execution_count": 376,
   "id": "e3c0605c",
   "metadata": {},
   "outputs": [],
   "source": [
    "df.columns = ['user_id', 'item_id', 'rating']"
   ]
  },
  {
   "cell_type": "code",
   "execution_count": 377,
   "id": "b47d550f",
   "metadata": {},
   "outputs": [],
   "source": [
    "df.sort_values('rating', ascending=False, inplace=True)"
   ]
  },
  {
   "cell_type": "code",
   "execution_count": 378,
   "id": "85469594",
   "metadata": {},
   "outputs": [
    {
     "data": {
      "text/html": [
       "<div>\n",
       "<style scoped>\n",
       "    .dataframe tbody tr th:only-of-type {\n",
       "        vertical-align: middle;\n",
       "    }\n",
       "\n",
       "    .dataframe tbody tr th {\n",
       "        vertical-align: top;\n",
       "    }\n",
       "\n",
       "    .dataframe thead th {\n",
       "        text-align: right;\n",
       "    }\n",
       "</style>\n",
       "<table border=\"1\" class=\"dataframe\">\n",
       "  <thead>\n",
       "    <tr style=\"text-align: right;\">\n",
       "      <th></th>\n",
       "      <th>user_id</th>\n",
       "      <th>item_id</th>\n",
       "      <th>rating</th>\n",
       "    </tr>\n",
       "  </thead>\n",
       "  <tbody>\n",
       "    <tr>\n",
       "      <th>1753107</th>\n",
       "      <td>1523169</td>\n",
       "      <td>24454</td>\n",
       "      <td>97.0</td>\n",
       "    </tr>\n",
       "    <tr>\n",
       "      <th>3044105</th>\n",
       "      <td>2642287</td>\n",
       "      <td>27807</td>\n",
       "      <td>76.0</td>\n",
       "    </tr>\n",
       "    <tr>\n",
       "      <th>1803365</th>\n",
       "      <td>1567039</td>\n",
       "      <td>773</td>\n",
       "      <td>49.0</td>\n",
       "    </tr>\n",
       "    <tr>\n",
       "      <th>1439855</th>\n",
       "      <td>1252954</td>\n",
       "      <td>26478</td>\n",
       "      <td>48.0</td>\n",
       "    </tr>\n",
       "    <tr>\n",
       "      <th>1531104</th>\n",
       "      <td>1331858</td>\n",
       "      <td>16769</td>\n",
       "      <td>46.0</td>\n",
       "    </tr>\n",
       "  </tbody>\n",
       "</table>\n",
       "</div>"
      ],
      "text/plain": [
       "         user_id  item_id  rating\n",
       "1753107  1523169    24454    97.0\n",
       "3044105  2642287    27807    76.0\n",
       "1803365  1567039      773    49.0\n",
       "1439855  1252954    26478    48.0\n",
       "1531104  1331858    16769    46.0"
      ]
     },
     "execution_count": 378,
     "metadata": {},
     "output_type": "execute_result"
    }
   ],
   "source": [
    "df.head()"
   ]
  },
  {
   "cell_type": "markdown",
   "id": "e86a2ce9",
   "metadata": {},
   "source": [
    "### 2. Model creation - matrix factorization"
   ]
  },
  {
   "cell_type": "code",
   "execution_count": 379,
   "id": "263e95ee",
   "metadata": {},
   "outputs": [],
   "source": [
    "# create a sparse matrix for the training set\n",
    "\n",
    "users = df[\"user_id\"].unique()\n",
    "items = df[\"item_id\"].unique()\n",
    "\n",
    "# Create indices for users and items\n",
    "user_cat = CategoricalDtype(categories=sorted(users), ordered=True)\n",
    "item_cat = CategoricalDtype(categories=sorted(items), ordered=True)\n",
    "user_index = df[\"user_id\"].astype(user_cat).cat.codes\n",
    "item_index = df[\"item_id\"].astype(item_cat).cat.codes\n",
    "\n",
    "# Conversion via COO matrix\n",
    "coo = coo_matrix((df[\"rating\"], (user_index, item_index)), shape=(len(users), len(items)))\n",
    "sparse_item_user = coo.tocsr()\n",
    "coo = coo_matrix((df[\"rating\"], (item_index, user_index)), shape=(len(items), len(users)))\n",
    "sparse_user_item = coo.tocsr()"
   ]
  },
  {
   "cell_type": "code",
   "execution_count": 380,
   "id": "8a1602e0",
   "metadata": {},
   "outputs": [],
   "source": [
    "#sparse_item_user_train = sparse_item_user[:950000]\n",
    "#sparse_item_user_test = sparse_item_user[950000:]"
   ]
  },
  {
   "cell_type": "code",
   "execution_count": 381,
   "id": "c784794b",
   "metadata": {},
   "outputs": [],
   "source": [
    "#sparse_item_user_train"
   ]
  },
  {
   "cell_type": "code",
   "execution_count": 382,
   "id": "b327f9c8",
   "metadata": {},
   "outputs": [],
   "source": [
    "#sparse_item_user_test"
   ]
  },
  {
   "cell_type": "code",
   "execution_count": 383,
   "id": "60ddaa86",
   "metadata": {},
   "outputs": [
    {
     "data": {
      "application/vnd.jupyter.widget-view+json": {
       "model_id": "6308cf1d065046d68b2f2afc0c375c2e",
       "version_major": 2,
       "version_minor": 0
      },
      "text/plain": [
       "  0%|          | 0/20 [00:00<?, ?it/s]"
      ]
     },
     "metadata": {},
     "output_type": "display_data"
    }
   ],
   "source": [
    "# Initialize the als model and fit it using the sparse item-user matrix\n",
    "model = implicit.als.AlternatingLeastSquares(factors=20, regularization=0.2, iterations=20, random_state=42)\n",
    "\n",
    "# Calculate the confidence by multiplying it by our alpha value.\n",
    "alpha_val = 20\n",
    "data_conf = (sparse_item_user * alpha_val).astype('double')\n",
    "\n",
    "# Fit the model\n",
    "model.fit(data_conf)"
   ]
  },
  {
   "cell_type": "markdown",
   "id": "2fa4eb13",
   "metadata": {},
   "source": [
    "### 3. Creating the recommendations"
   ]
  },
  {
   "cell_type": "code",
   "execution_count": 384,
   "id": "f9d105d4",
   "metadata": {},
   "outputs": [],
   "source": [
    "final_recommendations_ids = []"
   ]
  },
  {
   "cell_type": "code",
   "execution_count": 385,
   "id": "3689f46f",
   "metadata": {},
   "outputs": [],
   "source": [
    "users_test = sorted(users)[950000:]"
   ]
  },
  {
   "cell_type": "code",
   "execution_count": 386,
   "id": "3ac1176b",
   "metadata": {},
   "outputs": [],
   "source": [
    "for i in range(len(users_test)):\n",
    "    user = i + 950000\n",
    "    user_id_interactions = sparse_item_user[user]\n",
    "    \n",
    "    recommended = model.recommend(user, user_id_interactions, N=100)\n",
    "\n",
    "    item_ids = recommended[0]\n",
    "    final_recommendations_ids.append(item_ids)"
   ]
  },
  {
   "cell_type": "code",
   "execution_count": 387,
   "id": "4a3b413b",
   "metadata": {},
   "outputs": [],
   "source": [
    "indexes = []"
   ]
  },
  {
   "cell_type": "code",
   "execution_count": 388,
   "id": "e241f3a5",
   "metadata": {},
   "outputs": [],
   "source": [
    "for i in range(len(final_recommendations_ids)):\n",
    "    _list = final_recommendations_ids[0]\n",
    "    user_id = users_test[i]\n",
    "    real_recommendation = train_purchases[train_purchases['session_id'] == user_id]['item_id'].values[0]\n",
    "    location = np.where(_list == real_recommendation)\n",
    "    if(len(location[0])>0):\n",
    "        index = location[0][0]+1\n",
    "    else:\n",
    "        index = 0\n",
    "    indexes.append(index)"
   ]
  },
  {
   "cell_type": "code",
   "execution_count": 389,
   "id": "1ee01cf0",
   "metadata": {},
   "outputs": [],
   "source": [
    "from collections import Counter\n",
    "results = dict(Counter(indexes))"
   ]
  },
  {
   "cell_type": "code",
   "execution_count": 390,
   "id": "fec67cf0",
   "metadata": {},
   "outputs": [],
   "source": [
    "sum = 0\n",
    "for key, value in results.items():\n",
    "    if(key != 0):\n",
    "        sum += (1/key) * value\n",
    "result = sum/50000"
   ]
  },
  {
   "cell_type": "code",
   "execution_count": 391,
   "id": "019e2a77",
   "metadata": {},
   "outputs": [
    {
     "data": {
      "text/plain": [
       "'0.00013346'"
      ]
     },
     "execution_count": 391,
     "metadata": {},
     "output_type": "execute_result"
    }
   ],
   "source": [
    "\"{:.8f}\".format(float(result))"
   ]
  }
 ],
 "metadata": {
  "kernelspec": {
   "display_name": "Python 3 (ipykernel)",
   "language": "python",
   "name": "python3"
  },
  "language_info": {
   "codemirror_mode": {
    "name": "ipython",
    "version": 3
   },
   "file_extension": ".py",
   "mimetype": "text/x-python",
   "name": "python",
   "nbconvert_exporter": "python",
   "pygments_lexer": "ipython3",
   "version": "3.9.7"
  }
 },
 "nbformat": 4,
 "nbformat_minor": 5
}
